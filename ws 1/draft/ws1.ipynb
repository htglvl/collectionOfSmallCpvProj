{
 "cells": [
  {
   "cell_type": "code",
   "execution_count": 1,
   "metadata": {},
   "outputs": [],
   "source": [
    "import cv2\n",
    "import numpy as np\n",
    "import math"
   ]
  },
  {
   "cell_type": "code",
   "execution_count": 2,
   "metadata": {},
   "outputs": [],
   "source": [
    "img_3 = np.zeros([720,1080,3],dtype=np.uint8)\n",
    "img_3.fill(255)"
   ]
  },
  {
   "cell_type": "code",
   "execution_count": 3,
   "metadata": {},
   "outputs": [],
   "source": [
    "\n",
    "def drawRectangle(action, x, y, flags, *userdata):\n",
    "  # Referencing global variables \n",
    "  global top_left_corner, bottom_right_corner\n",
    "  # Mark the top left corner when left mouse button is pressed\n",
    "  if action == cv2.EVENT_LBUTTONDOWN:\n",
    "    top_left_corner = [(x,y)]\n",
    "    # When left mouse button is released, mark bottom right corner\n",
    "  elif action == cv2.EVENT_LBUTTONUP:\n",
    "    bottom_right_corner = [(x,y)]\n",
    "    # Draw the rectangle\n",
    "    cv2.rectangle(img_3, top_left_corner[0], bottom_right_corner[0], (0,0,0),thickness=2)\n",
    "    cv2.imshow(\"3 Channel Window\",img_3)"
   ]
  },
  {
   "cell_type": "code",
   "execution_count": 4,
   "metadata": {},
   "outputs": [],
   "source": [
    "def cal_move_rect(first_transform, bottom_transform, top_left_corner, bottom_right_corner):\n",
    "    vector = [(bottom_transform[0][0] - first_transform[0][0],bottom_transform[0][1]- first_transform[0][1])]\n",
    "    tx=vector[0][0]\n",
    "    ty=vector[0][1]\n",
    "    T = np.array([[1,0,tx],[0,1,ty],[0,0,1]])\n",
    "    A = np.array([top_left_corner[0][0],top_left_corner[0][1]])\n",
    "    B = np.array([bottom_right_corner[0][0],bottom_right_corner[0][1]])\n",
    "    rectangle = np.array([A,B])\n",
    "    one = np.ones((rectangle.shape[0], 1))\n",
    "    rectangle_matrix_ready = np.concatenate((rectangle,one), axis = 1)\n",
    "    copyOfMatrixReady = rectangle_matrix_ready.copy()\n",
    "    for i in range(rectangle_matrix_ready.shape[0]):\n",
    "        copyOfMatrixReady[i] = T.dot(rectangle_matrix_ready[i])\n",
    "    new_top_left_corner = [(int(copyOfMatrixReady[0][0]), int(copyOfMatrixReady[0][1]))]\n",
    "    top_left_corner = new_top_left_corner\n",
    "    new_bottom_right_corner = [(int(copyOfMatrixReady[1][0]), int(copyOfMatrixReady[1][1]))]\n",
    "    bottom_right_corner = new_bottom_right_corner\n",
    "    return top_left_corner, bottom_right_corner"
   ]
  },
  {
   "cell_type": "code",
   "execution_count": 5,
   "metadata": {},
   "outputs": [],
   "source": [
    "def moveRectangle(action, x, y, flags, *userdata):\n",
    "    global first_transform, bottom_transform\n",
    "    global top_left_corner, bottom_right_corner\n",
    "    if action == cv2.EVENT_LBUTTONDOWN:\n",
    "        first_transform = [(x,y)]\n",
    "        # When left mouse button is released, mark bottom right corner\n",
    "    elif action == cv2.EVENT_LBUTTONUP:\n",
    "        bottom_transform = [(x,y)]\n",
    "        top_left_corner,bottom_right_corner = cal_move_rect(first_transform, bottom_transform, top_left_corner,bottom_right_corner)\n",
    "\n",
    "        img_3 = np.zeros([720,1080,3],dtype=np.uint8)\n",
    "        img_3.fill(255)\n",
    "        # print('new_top_left_corner',top_left_corner)\n",
    "        # print('new_bottom_right_corner',bottom_right_corner)\n",
    "        cv2.rectangle(img_3, top_left_corner[0], bottom_right_corner[0], (0,0,0),thickness=2)\n",
    "        cv2.imshow(\"3 Channel Window\",img_3)\n",
    "        "
   ]
  },
  {
   "cell_type": "code",
   "execution_count": 6,
   "metadata": {},
   "outputs": [],
   "source": [
    "def rotateRectangle(action, x, y, flags, *userdata):\n",
    "    \n",
    "    \n"
   ]
  },
  {
   "cell_type": "code",
   "execution_count": 7,
   "metadata": {},
   "outputs": [
    {
     "name": "stdout",
     "output_type": "stream",
     "text": [
      "image shape:  (720, 1080, 3)\n",
      "new_top_left_corner [(451, 186)]\n",
      "new_bottom_right_corner [(600, 349)]\n",
      "new_top_left_corner [(-1, 179)]\n",
      "new_bottom_right_corner [(148, 342)]\n",
      "new_top_left_corner [(276, 193)]\n",
      "new_bottom_right_corner [(425, 356)]\n",
      "new_top_left_corner [(309, 346)]\n",
      "new_bottom_right_corner [(458, 509)]\n",
      "new_top_left_corner [(487, 288)]\n",
      "new_bottom_right_corner [(636, 451)]\n",
      "new_top_left_corner [(342, 123)]\n",
      "new_bottom_right_corner [(491, 286)]\n",
      "new_top_left_corner [(25, 320)]\n",
      "new_bottom_right_corner [(174, 483)]\n",
      "new_top_left_corner [(202, 392)]\n",
      "new_bottom_right_corner [(351, 555)]\n",
      "new_top_left_corner [(270, 208)]\n",
      "new_bottom_right_corner [(419, 371)]\n",
      "new_top_left_corner [(379, 255)]\n",
      "new_bottom_right_corner [(528, 418)]\n",
      "new_top_left_corner [(649, 283)]\n",
      "new_bottom_right_corner [(798, 446)]\n",
      "new_top_left_corner [(512, 232)]\n",
      "new_bottom_right_corner [(661, 395)]\n",
      "new_top_left_corner [(390, 195)]\n",
      "new_bottom_right_corner [(539, 358)]\n",
      "new_top_left_corner [(172, 166)]\n",
      "new_bottom_right_corner [(321, 329)]\n"
     ]
    }
   ],
   "source": [
    "\n",
    "# or img[:] = 255\n",
    "print(\"image shape: \", img_3.shape)\n",
    "# highgui function called when mouse events occur\n",
    "cv2.namedWindow(\"3 Channel Window\")\n",
    "enable_draw_rectangle = False\n",
    "enable_transform_rectangle = False\n",
    "enable_rotate_rectangle = False\n",
    "while(1):\n",
    "    cv2.imshow('3 Channel Window', img_3)\n",
    "\n",
    "\n",
    "\n",
    "    k = cv2.waitKey(0)\n",
    "    # if d is pressed, can draw\n",
    "    if (k == 100): \n",
    "        enable_draw_rectangle = not enable_draw_rectangle\n",
    "        if enable_draw_rectangle:\n",
    "            cv2.setMouseCallback(\"3 Channel Window\", drawRectangle)\n",
    "        else:\n",
    "            cv2.setMouseCallback(\"3 Channel Window\", lambda *args : None)\n",
    "    \n",
    "    # if t is pressed, can transform\n",
    "    if (k == 116): \n",
    "        enable_transform_rectangle = not enable_transform_rectangle\n",
    "        if enable_transform_rectangle: \n",
    "            cv2.setMouseCallback(\"3 Channel Window\", moveRectangle)\n",
    "        else:\n",
    "            cv2.setMouseCallback(\"3 Channel Window\", lambda *args : None)\n",
    "\n",
    "    # if r is pressed, can rotate\n",
    "    if (k == 114):\n",
    "        enable_rotate_rectangle = not enable_rotate_rectangle\n",
    "        if enable_rotate_rectangle:\n",
    "           cv2.setMouseCallback(\"3 Channel Window\", rotateRectangle)\n",
    "        else:\n",
    "            cv2.setMouseCallback(\"3 Channel Window\", lambda *args : None)\n",
    "\n",
    "    # If c is pressed, out the image\n",
    "    if (k == 99):\n",
    "        img_3 = np.zeros([720,1080,3],dtype=np.uint8)\n",
    "        img_3.fill(255)\n",
    "        cv2.imshow('3 Channel Window', img_3)\n",
    "    if (k == 113):\n",
    "        break\n",
    "cv2.destroyAllWindows()"
   ]
  }
 ],
 "metadata": {
  "kernelspec": {
   "display_name": "Python 3",
   "language": "python",
   "name": "python3"
  },
  "language_info": {
   "codemirror_mode": {
    "name": "ipython",
    "version": 3
   },
   "file_extension": ".py",
   "mimetype": "text/x-python",
   "name": "python",
   "nbconvert_exporter": "python",
   "pygments_lexer": "ipython3",
   "version": "3.11.0 (main, Oct 24 2022, 18:26:48) [MSC v.1933 64 bit (AMD64)]"
  },
  "orig_nbformat": 4,
  "vscode": {
   "interpreter": {
    "hash": "c261aea317cc0286b3b3261fbba9abdec21eaa57589985bb7a274bf54d6cc0a7"
   }
  }
 },
 "nbformat": 4,
 "nbformat_minor": 2
}
