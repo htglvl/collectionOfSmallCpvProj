{
 "cells": [
  {
   "cell_type": "code",
   "execution_count": null,
   "metadata": {},
   "outputs": [],
   "source": [
    "import cv2\n",
    "import numpy as np\n",
    "import math\n",
    "from PIL import Image"
   ]
  },
  {
   "cell_type": "code",
   "execution_count": null,
   "metadata": {},
   "outputs": [],
   "source": [
    "global img_3\n",
    "img_3 = np.zeros([720,1080,3],dtype=np.uint8)\n",
    "img_3.fill(255)"
   ]
  },
  {
   "cell_type": "code",
   "execution_count": null,
   "metadata": {},
   "outputs": [],
   "source": [
    "def drawRectangle(action, x, y, flags, *userdata):\n",
    "  # Referencing global variables \n",
    "  global top_left_corner, bottom_right_corner, img_3\n",
    "  # Mark the top left corner when left mouse button is pressed\n",
    "  if action == cv2.EVENT_LBUTTONDOWN:\n",
    "    top_left_corner = [(x,y)]\n",
    "    # When left mouse button is released, mark bottom right corner\n",
    "  if action == cv2.EVENT_LBUTTONUP:\n",
    "    bottom_right_corner = [(x,y)]\n",
    "    # Draw the rectangle\n",
    "    cv2.rectangle(img_3, top_left_corner[0], bottom_right_corner[0], (0,0,0),thickness=2)\n",
    "    cv2.imshow(\"3 Channel Window\",img_3)"
   ]
  },
  {
   "cell_type": "code",
   "execution_count": null,
   "metadata": {},
   "outputs": [],
   "source": [
    "def cal_move_rect(first_transform, bottom_transform, top_left_corner, bottom_right_corner):\n",
    "    vector = [(bottom_transform[0][0] - first_transform[0][0],bottom_transform[0][1]- first_transform[0][1])]\n",
    "    tx=vector[0][0]\n",
    "    ty=vector[0][1]\n",
    "    T = np.array([[1,0,tx],[0,1,ty],[0,0,1]])\n",
    "    A = np.array([top_left_corner[0][0],top_left_corner[0][1]])\n",
    "    B = np.array([bottom_right_corner[0][0],bottom_right_corner[0][1]])\n",
    "    rectangle = np.array([A,B])\n",
    "    one = np.ones((rectangle.shape[0], 1))\n",
    "    rectangle_matrix_ready = np.concatenate((rectangle,one), axis = 1)\n",
    "    copyOfMatrixReady = rectangle_matrix_ready.copy()\n",
    "    for i in range(rectangle_matrix_ready.shape[0]):\n",
    "        copyOfMatrixReady[i] = T.dot(rectangle_matrix_ready[i])\n",
    "    new_top_left_corner = [(int(copyOfMatrixReady[0][0]), int(copyOfMatrixReady[0][1]))]\n",
    "    top_left_corner = new_top_left_corner\n",
    "    new_bottom_right_corner = [(int(copyOfMatrixReady[1][0]), int(copyOfMatrixReady[1][1]))]\n",
    "    bottom_right_corner = new_bottom_right_corner\n",
    "    return top_left_corner, bottom_right_corner"
   ]
  },
  {
   "cell_type": "code",
   "execution_count": null,
   "metadata": {},
   "outputs": [],
   "source": [
    "def moveRectangle(action, x, y, flags, *userdata):\n",
    "    global first_transform, bottom_transform\n",
    "    global top_left_corner, bottom_right_corner, img_3\n",
    "    if action == cv2.EVENT_LBUTTONDOWN:\n",
    "        first_transform = [(x,y)]\n",
    "        # When left mouse button is released, mark bottom right corner\n",
    "    elif action == cv2.EVENT_LBUTTONUP:\n",
    "        bottom_transform = [(x,y)]\n",
    "        top_left_corner,bottom_right_corner = cal_move_rect(first_transform, bottom_transform, top_left_corner,bottom_right_corner)\n",
    "\n",
    "        img_3 = np.zeros([720,1080,3],dtype=np.uint8)\n",
    "        img_3.fill(255)\n",
    "        # print('new_top_left_corner',top_left_corner)\n",
    "        # print('new_bottom_right_corner',bottom_right_corner)\n",
    "        img_3 = cv2.rectangle(img_3, top_left_corner[0], bottom_right_corner[0], (0,0,0),thickness=2)\n",
    "        cv2.imshow(\"3 Channel Window\",img_3)"
   ]
  }
 ],
 "metadata": {
  "kernelspec": {
   "display_name": "Python 3",
   "language": "python",
   "name": "python3"
  },
  "language_info": {
   "codemirror_mode": {
    "name": "ipython",
    "version": 3
   },
   "file_extension": ".py",
   "mimetype": "text/x-python",
   "name": "python",
   "nbconvert_exporter": "python",
   "pygments_lexer": "ipython3",
   "version": "3.11.0"
  },
  "orig_nbformat": 4,
  "vscode": {
   "interpreter": {
    "hash": "c261aea317cc0286b3b3261fbba9abdec21eaa57589985bb7a274bf54d6cc0a7"
   }
  }
 },
 "nbformat": 4,
 "nbformat_minor": 2
}
