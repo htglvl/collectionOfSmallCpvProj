{
 "cells": [
  {
   "cell_type": "code",
   "execution_count": 29,
   "metadata": {},
   "outputs": [],
   "source": [
    "import cv2\n",
    "import numpy as np\n",
    "import math\n",
    "from PIL import Image\n",
    "import matplotlib.pyplot as plt\n",
    "from random import randint\n",
    "from skimage.feature import hog\n",
    "from skimage import data, exposure"
   ]
  },
  {
   "cell_type": "code",
   "execution_count": 30,
   "metadata": {},
   "outputs": [],
   "source": [
    "global img_3, blank\n",
    "img_3 = np.zeros([300,300,3],dtype=np.uint8)\n",
    "img_3.fill(255)\n",
    "(h, w) = img_3.shape[:2]\n",
    "center = (w / 2, h / 2)"
   ]
  },
  {
   "cell_type": "code",
   "execution_count": 31,
   "metadata": {},
   "outputs": [],
   "source": [
    "cv2.imshow(\"Window\", img_3)\n",
    "cv2.destroyAllWindows()"
   ]
  },
  {
   "cell_type": "code",
   "execution_count": 32,
   "metadata": {},
   "outputs": [],
   "source": [
    "def compute_hist(img):\n",
    "    hist = np.zeros((256,), np.uint8)\n",
    "    h, w = img.shape[:2]\n",
    "    for i in range(h):\n",
    "        for j in range(w):\n",
    "            hist[img[i][j]] += 1\n",
    "    return hist\n",
    "def equal_hist(hist):\n",
    "    cumulator = np.zeros_like(hist, np.float64)\n",
    "    for i in range(len(cumulator)):\n",
    "        cumulator[i] = hist[:i].sum()\n",
    "    #print(cumulator)\n",
    "    new_hist = (cumulator - cumulator.min())/(cumulator.max() - cumulator.min()) * 255\n",
    "    #new_hist = np.uint8(new_hist)\n",
    "    return new_hist"
   ]
  },
  {
   "cell_type": "code",
   "execution_count": 33,
   "metadata": {},
   "outputs": [],
   "source": [
    "def HistogramOfOrientedGradients():\n",
    "    gx = cv2.Sobel(img_3, cv2.CV_32F, 1, 0, ksize=1)\n",
    "    gy = cv2.Sobel(img_3, cv2.CV_32F, 0, 1, ksize=1)\n",
    "    mag, angle = cv2.cartToPolar(gx, gy, angleInDegrees=True)\n",
    "    histr_mag = cv2.calcHist([mag],[0],None,[256],[0,256])\n",
    "    plt.plot(histr_mag, c = 'k',label = 'histr_mag')\n",
    "    plt.savefig('histr_mag.png')\n",
    "    # histr_img_mag = cv2.imread('histr_mag.png')\n",
    "    plt.clf()\n",
    "    histr_angle = cv2.calcHist([angle],[0],None,[256],[0,256])\n",
    "    plt.plot(histr_angle, c = 'k',label = 'histr_mag')\n",
    "    plt.savefig('histr_angle.png')\n",
    "    return mag, angle, histr_mag, histr_angle"
   ]
  },
  {
   "cell_type": "code",
   "execution_count": 34,
   "metadata": {},
   "outputs": [
    {
     "data": {
      "image/png": "[encoded data removed]",
      "text/plain": [
       "<Figure size 640x480 with 1 Axes>"
      ]
     },
     "metadata": {},
     "output_type": "display_data"
    }
   ],
   "source": [
    "lines_list =[]\n",
    "while(True):\n",
    "    cv2.imshow('Window', img_3)\n",
    "    k = cv2.waitKey(0)\n",
    "    if k == ord('l'):\n",
    "        image_location = input('Paste the image location:')\n",
    "        img_3 = cv2.imread(image_location)\n",
    "        blank = np.zeros(shape=(img_3.shape[0], img_3.shape[1]))\n",
    "        blank.fill(255)\n",
    "        cv2.imshow('Window', img_3)\n",
    "    if k == ord('a'):\n",
    "        gray = cv2.cvtColor(img_3,cv2.COLOR_BGR2GRAY)\n",
    "        dst = cv2.cornerHarris(gray,2,3,.04)\n",
    "        dst = cv2.dilate(dst,None)\n",
    "        blank[dst>0.01*dst.max()]=[0]\n",
    "        img_3 = blank\n",
    "    if k == ord('2'):\n",
    "        magShape, angleShape, histr_mag, histr_angle = HistogramOfOrientedGradients()\n",
    "        histr_img_mag = cv2.imread('histr_mag.png')\n",
    "        histr_img_angle = cv2.imread('histr_angle.png')\n",
    "        cv2.imshow('magShape', magShape)\n",
    "        cv2.imshow('angleShape', angleShape)\n",
    "        cv2.imshow('histr_mag', histr_img_mag)\n",
    "        cv2.imshow('histr_angle', histr_img_angle)\n",
    "        \n",
    "        cv2.waitKey(0)\n",
    "    if k == ord('b'):\n",
    "        fd, hog_image = hog(img_3, orientations=9, pixels_per_cell=(8, 8),\n",
    "        cells_per_block=(2, 2), visualize=True, multichannel=True)\n",
    "        cv2.imshow('hog', hog_image)\n",
    "    if k == ord('3'):\n",
    "        img_3 = cv2.Canny(img_3,100,200)\n",
    "    if k == ord('4'):\n",
    "        grey = cv2.cvtColor(img_3,cv2.COLOR_BGR2GRAY)\n",
    "        canny = cv2.Canny(grey,100,200)\n",
    "        lines = cv2.HoughLinesP(canny, 1, np.pi/180, threshold=100, minLineLength=5, maxLineGap=10)\n",
    "        print(lines[0])\n",
    "        for points in lines:\n",
    "            x1,y1,x2,y2=points[0]\n",
    "            cv2.line(blank,(x1,y1),(x2,y2),(0,255,0),2)\n",
    "            lines_list.append([(x1,y1),(x2,y2)])\n",
    "        img_3 = blank\n",
    "    if k == ord('r'):\n",
    "        img_3 = cv2.imread(image_location)\n",
    "    if k == ord('x'):\n",
    "        img_3.fill(255)\n",
    "    if  k == ord('q'):\n",
    "        break\n",
    "cv2.destroyAllWindows()"
   ]
  }
 ],
 "metadata": {
  "kernelspec": {
   "display_name": "Python 3",
   "language": "python",
   "name": "python3"
  },
  "language_info": {
   "codemirror_mode": {
    "name": "ipython",
    "version": 3
   },
   "file_extension": ".py",
   "mimetype": "text/x-python",
   "name": "python",
   "nbconvert_exporter": "python",
   "pygments_lexer": "ipython3",
   "version": "3.11.0"
  },
  "orig_nbformat": 4,
  "vscode": {
   "interpreter": {
    "hash": "c261aea317cc0286b3b3261fbba9abdec21eaa57589985bb7a274bf54d6cc0a7"
   }
  }
 },
 "nbformat": 4,
 "nbformat_minor": 2
}
