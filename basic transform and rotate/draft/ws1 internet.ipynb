{
 "cells": [
  {
   "cell_type": "code",
   "execution_count": 3,
   "metadata": {},
   "outputs": [],
   "source": [
    "# Import packages\n",
    "import cv2\n",
    "import numpy as np\n",
    " \n",
    "# Lists to store the bounding box coordinates\n",
    "top_left_corner=[]\n",
    "bottom_right_corner=[]\n",
    " \n",
    "# function which will be called on mouse input\n",
    "def drawRectangle(action, x, y, flags, *userdata):\n",
    "  # Referencing global variables \n",
    "  global top_left_corner, bottom_right_corner\n",
    "  # Mark the top left corner when left mouse button is pressed\n",
    "  if action == cv2.EVENT_LBUTTONDOWN:\n",
    "    top_left_corner = [(x,y)]\n",
    "    # When left mouse button is released, mark bottom right corner\n",
    "  elif action == cv2.EVENT_LBUTTONUP:\n",
    "    bottom_right_corner = [(x,y)]    \n",
    "    # Draw the rectangle\n",
    "    cv2.rectangle(image, top_left_corner[0], bottom_right_corner[0], (0,255,0),2, 8)\n",
    "    cv2.imshow(\"Window\",image)\n",
    " \n",
    "# Read Images\n",
    "image = np.zeros([720,1080,3],dtype=np.uint8)\n",
    "image.fill(255)\n",
    "# Create a named window\n",
    "cv2.namedWindow(\"Window\")\n",
    "# highgui function called when mouse events occur\n",
    "cv2.setMouseCallback(\"Window\", drawRectangle)\n",
    " \n",
    "k=0\n",
    "# Close the window when key q is pressed\n",
    "while k!=113:\n",
    "  # Display the image\n",
    "  cv2.imshow(\"Window\", image)\n",
    "  k = cv2.waitKey(0)\n",
    "  # If c is pressed, clear the window, using the dummy image\n",
    "  if (k == 99):\n",
    "    image = np.zeros([720,1080,3],dtype=np.uint8)\n",
    "    image.fill(255)\n",
    "    cv2.imshow(\"Window\", image)\n",
    " \n",
    "cv2.destroyAllWindows()"
   ]
  }
 ],
 "metadata": {
  "kernelspec": {
   "display_name": "Python 3",
   "language": "python",
   "name": "python3"
  },
  "language_info": {
   "codemirror_mode": {
    "name": "ipython",
    "version": 3
   },
   "file_extension": ".py",
   "mimetype": "text/x-python",
   "name": "python",
   "nbconvert_exporter": "python",
   "pygments_lexer": "ipython3",
   "version": "3.11.0"
  },
  "orig_nbformat": 4,
  "vscode": {
   "interpreter": {
    "hash": "c261aea317cc0286b3b3261fbba9abdec21eaa57589985bb7a274bf54d6cc0a7"
   }
  }
 },
 "nbformat": 4,
 "nbformat_minor": 2
}
