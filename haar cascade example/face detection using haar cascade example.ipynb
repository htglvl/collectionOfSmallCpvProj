{
 "cells": [
  {
   "cell_type": "code",
   "execution_count": 6,
   "metadata": {},
   "outputs": [],
   "source": [
    "import cv2\n",
    "import numpy as np\n",
    "import matplotlib.pyplot as plt\n",
    "import random"
   ]
  },
  {
   "cell_type": "code",
   "execution_count": 7,
   "metadata": {},
   "outputs": [],
   "source": [
    "img_3 = np.zeros([720,1080,3],dtype=np.uint8)\n",
    "img_3_align = np.zeros([720,1080,3],dtype=np.uint8)\n",
    "img_3.fill(255)\n",
    "img_3_align.fill(255)\n",
    "cv2.namedWindow(\"ws7\")"
   ]
  },
  {
   "cell_type": "code",
   "execution_count": 8,
   "metadata": {},
   "outputs": [],
   "source": [
    "def haar_cascade(image = None):\n",
    "    face_cascade = cv2.CascadeClassifier(cv2.data.haarcascades +'haarcascade_frontalface_default.xml')\n",
    "    gray_image = cv2.cvtColor(image, cv2.COLOR_BGR2GRAY)\n",
    "    faces = face_cascade.detectMultiScale(gray_image)\n",
    "    for (x,y,w,h) in faces:\n",
    "        img = cv2.rectangle(image, (x,y), (x+w, y+h), (0, 255, 0), 5)\n",
    "        roi_gray = gray_image[y:y+w, x:x+w]\n",
    "        roi_color = image[y:y+w, x:x+w]\n",
    "    cv2.imshow('Detection', image)\n",
    "    cv2.imshow('roi_gray',roi_gray)\n",
    "    cv2.imshow('roi_color',roi_color)\n",
    "    cv2.imshow('img',img)"
   ]
  },
  {
   "cell_type": "code",
   "execution_count": 9,
   "metadata": {},
   "outputs": [],
   "source": [
    "# cap =cv2.VideoCapture(0)\n",
    "# face_cascade = cv2.CascadeClassifier(cv2.data.haarcascades +'haarcascade_frontalface_default.xml')\n",
    "\n",
    "# while True:\n",
    "\n",
    "#     ret, frame = cap.read()\n",
    "\n",
    "#     gray_frame = cv2.cvtColor(frame, cv2.COLOR_BGR2GRAY)\n",
    "#     faces = face_cascade.detectMultiScale(gray_frame, 1.01, 5)\n",
    "#     for (x,y,w,h) in faces:\n",
    "#         img = cv2.rectangle(frame, (x,y), (x+w, y+h), (0, 255, 0), 5)\n",
    "#         roi_gray = gray_frame[y:y+w, x:x+w]\n",
    "#         roi_color = frame[y:y+w, x:x+w]\n",
    "#     cv2.imshow('Detection', frame)\n",
    "\n",
    "#     if cv2.waitKey(1) == ord('w'):\n",
    "#         break\n",
    "# cap.release()\n",
    "# cv2.destroyAllWindows()"
   ]
  },
  {
   "cell_type": "code",
   "execution_count": 10,
   "metadata": {},
   "outputs": [
    {
     "ename": "UnboundLocalError",
     "evalue": "cannot access local variable 'roi_gray' where it is not associated with a value",
     "output_type": "error",
     "traceback": [
      "\u001b[1;31m---------------------------------------------------------------------------\u001b[0m",
      "\u001b[1;31mUnboundLocalError\u001b[0m                         Traceback (most recent call last)",
      "Cell \u001b[1;32mIn[10], line 11\u001b[0m\n\u001b[0;32m      9\u001b[0m     cv2\u001b[39m.\u001b[39mimshow(\u001b[39m'\u001b[39m\u001b[39mimage\u001b[39m\u001b[39m'\u001b[39m, image)\n\u001b[0;32m     10\u001b[0m \u001b[39mif\u001b[39;00m k \u001b[39m==\u001b[39m \u001b[39m13\u001b[39m: \u001b[39m# enter key\u001b[39;00m\n\u001b[1;32m---> 11\u001b[0m     haar_cascade(image)\n\u001b[0;32m     12\u001b[0m \u001b[39mif\u001b[39;00m (k \u001b[39m==\u001b[39m \u001b[39mord\u001b[39m(\u001b[39m'\u001b[39m\u001b[39mq\u001b[39m\u001b[39m'\u001b[39m)): \u001b[39m# quit\u001b[39;00m\n\u001b[0;32m     13\u001b[0m     cv2\u001b[39m.\u001b[39mdestroyAllWindows()\n",
      "Cell \u001b[1;32mIn[8], line 10\u001b[0m, in \u001b[0;36mhaar_cascade\u001b[1;34m(image)\u001b[0m\n\u001b[0;32m      8\u001b[0m     roi_color \u001b[39m=\u001b[39m image[y:y\u001b[39m+\u001b[39mw, x:x\u001b[39m+\u001b[39mw]\n\u001b[0;32m      9\u001b[0m cv2\u001b[39m.\u001b[39mimshow(\u001b[39m'\u001b[39m\u001b[39mDetection\u001b[39m\u001b[39m'\u001b[39m, image)\n\u001b[1;32m---> 10\u001b[0m cv2\u001b[39m.\u001b[39mimshow(\u001b[39m'\u001b[39m\u001b[39mroi_gray\u001b[39m\u001b[39m'\u001b[39m,roi_gray)\n\u001b[0;32m     11\u001b[0m cv2\u001b[39m.\u001b[39mimshow(\u001b[39m'\u001b[39m\u001b[39mroi_color\u001b[39m\u001b[39m'\u001b[39m,roi_color)\n\u001b[0;32m     12\u001b[0m cv2\u001b[39m.\u001b[39mimshow(\u001b[39m'\u001b[39m\u001b[39mimg\u001b[39m\u001b[39m'\u001b[39m,img)\n",
      "\u001b[1;31mUnboundLocalError\u001b[0m: cannot access local variable 'roi_gray' where it is not associated with a value"
     ]
    }
   ],
   "source": [
    "while(True):\n",
    "    cv2.imshow('ws7', img_3)\n",
    "    k = cv2.waitKey(0)\n",
    "    if k == ord('f'):\n",
    "       pass\n",
    "    if k == ord('l'): # load\n",
    "        image_path = input('image path: ')\n",
    "        image = cv2.imread(image_path)\n",
    "        cv2.imshow('image', image)\n",
    "    if k == 13: # enter key\n",
    "        haar_cascade(image)\n",
    "    if (k == ord('q')): # quit\n",
    "        cv2.destroyAllWindows()\n",
    "        break"
   ]
  }
 ],
 "metadata": {
  "kernelspec": {
   "display_name": "Python 3",
   "language": "python",
   "name": "python3"
  },
  "language_info": {
   "codemirror_mode": {
    "name": "ipython",
    "version": 3
   },
   "file_extension": ".py",
   "mimetype": "text/x-python",
   "name": "python",
   "nbconvert_exporter": "python",
   "pygments_lexer": "ipython3",
   "version": "3.11.2"
  },
  "orig_nbformat": 4
 },
 "nbformat": 4,
 "nbformat_minor": 2
}
