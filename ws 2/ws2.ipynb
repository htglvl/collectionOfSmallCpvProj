{
 "cells": [
  {
   "cell_type": "code",
   "execution_count": 1,
   "metadata": {},
   "outputs": [],
   "source": [
    "import cv2\n",
    "import numpy as np\n",
    "import math\n",
    "from PIL import Image"
   ]
  },
  {
   "cell_type": "code",
   "execution_count": 2,
   "metadata": {},
   "outputs": [],
   "source": [
    "global img_3\n",
    "img_3 = np.zeros([300,300,3],dtype=np.uint8)\n",
    "img_3.fill(255)\n",
    "(h, w) = img_3.shape[:2]\n",
    "center = (w / 2, h / 2)"
   ]
  },
  {
   "cell_type": "code",
   "execution_count": 3,
   "metadata": {},
   "outputs": [],
   "source": [
    "#cv2.imshow(\"Window\", img_3)\n",
    "cv2.namedWindow('Window')\n",
    "# Bind mouse events"
   ]
  },
  {
   "cell_type": "code",
   "execution_count": 4,
   "metadata": {},
   "outputs": [],
   "source": [
    "def compute_hist(img):\n",
    "    hist = np.zeros((256,), np.uint8)\n",
    "    h, w = img.shape[:2]\n",
    "    for i in range(h):\n",
    "        for j in range(w):\n",
    "            hist[img[i][j]] += 1\n",
    "    return hist\n",
    "def equal_hist(hist):\n",
    "    cumulator = np.zeros_like(hist, np.float64)\n",
    "    for i in range(len(cumulator)):\n",
    "        cumulator[i] = hist[:i].sum()\n",
    "    #print(cumulator)\n",
    "    new_hist = (cumulator - cumulator.min())/(cumulator.max() - cumulator.min()) * 255\n",
    "    #new_hist = np.uint8(new_hist)\n",
    "    return new_hist"
   ]
  },
  {
   "cell_type": "code",
   "execution_count": 5,
   "metadata": {},
   "outputs": [],
   "source": [
    "def nothing(x):\n",
    "    pass"
   ]
  },
  {
   "cell_type": "code",
   "execution_count": 6,
   "metadata": {},
   "outputs": [],
   "source": [
    "def color_balance(x):\n",
    "    global img_3\n",
    "    hist = compute_hist(img_3[:,:,0])\n",
    "    new_hist = equal_hist(hist)\n",
    "    img_yuv = cv2.cvtColor(img_3, cv2.COLOR_BGR2YUV)\n",
    "    img_yuv[:,:,0] = cv2.equalizeHist(img_yuv[:,:,0])\n",
    "    img_output = cv2.cvtColor(img_yuv, cv2.COLOR_YUV2BGR)\n",
    "    img_3 = cv2.imread('i.png')"
   ]
  },
  {
   "cell_type": "code",
   "execution_count": 7,
   "metadata": {},
   "outputs": [],
   "source": [
    "def createTrackbar():\n",
    "    cv2.createTrackbar('clr balance:','Window',0,360,color_balance)\n",
    "    cv2.createTrackbar('hist equalize','Window',0,50,nothing)\n",
    "    cv2.createTrackbar('med fil','Window',-50,50,nothing)\n",
    "    cv2.createTrackbar('Mean fil','Window',0,500,nothing)\n",
    "    cv2.createTrackbar('Gaus smooth','Window',0,500,nothing)\n",
    "    "
   ]
  },
  {
   "cell_type": "code",
   "execution_count": 8,
   "metadata": {},
   "outputs": [],
   "source": [
    "def setTrackbar():\n",
    "    cv2.setTrackbarMin('clr balance:','Window',-360)\n",
    "    cv2.setTrackbarMin('hist equalize','Window',-50)\n",
    "    cv2.setTrackbarMin('med fil','Window',-50)\n",
    "    cv2.setTrackbarPos('Mean fil','Window',100)\n",
    "    cv2.setTrackbarPos('Gaus smooth','Window',100)"
   ]
  },
  {
   "cell_type": "code",
   "execution_count": 9,
   "metadata": {},
   "outputs": [],
   "source": [
    "def reset_bar():\n",
    "    cv2.setTrackbarPos('clr balance:','Window',0)\n",
    "    cv2.setTrackbarPos('hist equalize','Window',0)\n",
    "    cv2.setTrackbarPos('med fil','Window',0)\n",
    "    cv2.setTrackbarPos('Mean fil','Window',100)\n",
    "    cv2.setTrackbarPos('Gaus smooth','Window',100)"
   ]
  },
  {
   "cell_type": "code",
   "execution_count": 10,
   "metadata": {},
   "outputs": [
    {
     "ename": "error",
     "evalue": "OpenCV(4.6.0) D:\\a\\opencv-python\\opencv-python\\opencv\\modules\\highgui\\src\\window.cpp:828: error: (-215:Assertion failed) trackbar in function 'cv::setTrackbarMin'\n",
     "output_type": "error",
     "traceback": [
      "\u001b[1;31m---------------------------------------------------------------------------\u001b[0m",
      "\u001b[1;31merror\u001b[0m                                     Traceback (most recent call last)",
      "Cell \u001b[1;32mIn[10], line 1\u001b[0m\n\u001b[1;32m----> 1\u001b[0m setTrackbar()\n\u001b[0;32m      2\u001b[0m \u001b[39mwhile\u001b[39;00m(\u001b[39mTrue\u001b[39;00m):\n\u001b[0;32m      3\u001b[0m     createTrackbar()\n",
      "Cell \u001b[1;32mIn[8], line 2\u001b[0m, in \u001b[0;36msetTrackbar\u001b[1;34m()\u001b[0m\n\u001b[0;32m      1\u001b[0m \u001b[39mdef\u001b[39;00m \u001b[39msetTrackbar\u001b[39m():\n\u001b[1;32m----> 2\u001b[0m     cv2\u001b[39m.\u001b[39;49msetTrackbarMin(\u001b[39m'\u001b[39;49m\u001b[39mclr balance:\u001b[39;49m\u001b[39m'\u001b[39;49m,\u001b[39m'\u001b[39;49m\u001b[39mWindow\u001b[39;49m\u001b[39m'\u001b[39;49m,\u001b[39m-\u001b[39;49m\u001b[39m360\u001b[39;49m)\n\u001b[0;32m      3\u001b[0m     cv2\u001b[39m.\u001b[39msetTrackbarMin(\u001b[39m'\u001b[39m\u001b[39mhist equalize\u001b[39m\u001b[39m'\u001b[39m,\u001b[39m'\u001b[39m\u001b[39mWindow\u001b[39m\u001b[39m'\u001b[39m,\u001b[39m-\u001b[39m\u001b[39m50\u001b[39m)\n\u001b[0;32m      4\u001b[0m     cv2\u001b[39m.\u001b[39msetTrackbarMin(\u001b[39m'\u001b[39m\u001b[39mmed fil\u001b[39m\u001b[39m'\u001b[39m,\u001b[39m'\u001b[39m\u001b[39mWindow\u001b[39m\u001b[39m'\u001b[39m,\u001b[39m-\u001b[39m\u001b[39m50\u001b[39m)\n",
      "\u001b[1;31merror\u001b[0m: OpenCV(4.6.0) D:\\a\\opencv-python\\opencv-python\\opencv\\modules\\highgui\\src\\window.cpp:828: error: (-215:Assertion failed) trackbar in function 'cv::setTrackbarMin'\n"
     ]
    },
    {
     "ename": "",
     "evalue": "",
     "output_type": "error",
     "traceback": [
      "\u001b[1;31mThe Kernel crashed while executing code in the the current cell or a previous cell. Please review the code in the cell(s) to identify a possible cause of the failure. Click <a href='https://aka.ms/vscodeJupyterKernelCrash'>here</a> for more info. View Jupyter <a href='command:jupyter.viewOutput'>log</a> for further details."
     ]
    }
   ],
   "source": [
    "setTrackbar()\n",
    "createTrackbar()\n",
    "while(True):\n",
    "    cv2.imshow('Window', img_3)\n",
    "    k = cv2.waitKey(0)\n",
    "    if k == ord('l'):\n",
    "        image_location = input('Paste the image location:')\n",
    "        img_3 = cv2.imread(image_location)\n",
    "        cv2.imshow('Window', img_3)\n",
    "    if k == ord('x'):\n",
    "        img_3.fill(255)\n",
    "        reset_bar()\n",
    "    if (k == 113):\n",
    "        break\n",
    "cv2.destroyAllWindows()"
   ]
  }
 ],
 "metadata": {
  "kernelspec": {
   "display_name": "Python 3",
   "language": "python",
   "name": "python3"
  },
  "language_info": {
   "codemirror_mode": {
    "name": "ipython",
    "version": 3
   },
   "file_extension": ".py",
   "mimetype": "text/x-python",
   "name": "python",
   "nbconvert_exporter": "python",
   "pygments_lexer": "ipython3",
   "version": "3.11.0"
  },
  "orig_nbformat": 4,
  "vscode": {
   "interpreter": {
    "hash": "c261aea317cc0286b3b3261fbba9abdec21eaa57589985bb7a274bf54d6cc0a7"
   }
  }
 },
 "nbformat": 4,
 "nbformat_minor": 2
}
