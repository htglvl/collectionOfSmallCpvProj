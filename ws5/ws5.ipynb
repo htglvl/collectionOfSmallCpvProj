{
 "cells": [
  {
   "cell_type": "code",
   "execution_count": 6,
   "metadata": {},
   "outputs": [],
   "source": [
    "import cv2\n",
    "import numpy as np\n",
    "import matplotlib.pyplot as plt"
   ]
  },
  {
   "cell_type": "code",
   "execution_count": 7,
   "metadata": {},
   "outputs": [],
   "source": [
    "img_3 = np.zeros([720,1080,3],dtype=np.uint8)\n",
    "img_3_align = np.zeros([720,1080,3],dtype=np.uint8)\n",
    "img_3.fill(255)\n",
    "img_3_align.fill(255)\n",
    "cv2.namedWindow(\"ws5\")\n",
    "cv2.namedWindow(\"align image\")"
   ]
  },
  {
   "cell_type": "code",
   "execution_count": 8,
   "metadata": {},
   "outputs": [],
   "source": [
    "def align_image(reference_image = None, align_image = None,TOP_MATCH_COUNT = 0, MIN_MATCH_COUNT = 4):\n",
    "    print(TOP_MATCH_COUNT)\n",
    "    reference_image_grey = cv2.cvtColor(reference_image, cv2.COLOR_BGR2GRAY)\n",
    "    align_image_grey = cv2.cvtColor(align_image, cv2.COLOR_BGR2GRAY)\n",
    "    sift = cv2.SIFT_create()\n",
    "    kp_ref, des_ref = sift.detectAndCompute(reference_image_grey,None)\n",
    "    kp_align, des_align = sift.detectAndCompute(align_image_grey, None)\n",
    "    # kp_detect_image_ref=cv2.drawKeypoints(reference_image_grey,kp_ref,reference_image)\n",
    "    # kp_detect_image_align = cv2.drawKeypoints(align_image_grey,kp_align,align_image)\n",
    "    bf = cv2.BFMatcher()\n",
    "    matches = bf.knnMatch(des_ref,des_align, k = 2)\n",
    "    print(des_ref)\n",
    "    print(type(des_align))\n",
    "    #print(matches)\n",
    "    # Apply ratio test\n",
    "    all = []\n",
    "    good = []\n",
    "    all_mask = []\n",
    "    for m,n in matches:\n",
    "        if m.distance < .75*n.distance:\n",
    "            good.append(m)\n",
    "        all.append(m)\n",
    "    for i in range(len(all)):\n",
    "        all_mask.append(1)\n",
    "    if len(good)>MIN_MATCH_COUNT:\n",
    "        src_pts = np.float32([ kp_ref[m.queryIdx].pt for m in good ]).reshape(-1,1,2)\n",
    "        dst_pts = np.float32([ kp_align[m.trainIdx].pt for m in good ]).reshape(-1,1,2)\n",
    "        M, mask = cv2.findHomography(dst_pts,src_pts, cv2.RANSAC)\n",
    "        matchesMask = mask.ravel().tolist()\n",
    "        print(M)\n",
    "        h,w = reference_image_grey.shape\n",
    "        pts = np.float32([ [0,0],[0,h-1],[w-1,h-1],[w-1,0] ]).reshape(-1,1,2)\n",
    "        dst = cv2.perspectiveTransform(pts,M)\n",
    "        #aligned_image = cv2.polylines(align_image,[np.int32(dst)],True,255,3, cv2.LINE_AA)\n",
    "        aligned_image = cv2.warpPerspective(align_image, M, (w, h))\n",
    " \n",
    "    else:\n",
    "        print( \"Not enough matches are found - {}/{}\".format(len(good), MIN_MATCH_COUNT) )\n",
    "        matchesMask = None\n",
    "    draw_params = dict(matchColor = (0,255,0), # draw matches in green color\n",
    "                   singlePointColor = None,\n",
    "                   matchesMask = matchesMask, # draw only inliers\n",
    "                   flags = 2)\n",
    "    all_params = dict(matchColor = (255,0,0), # draw matches in red color\n",
    "                   singlePointColor = None,\n",
    "                   matchesMask = all_mask[:TOP_MATCH_COUNT+4] if TOP_MATCH_COUNT > 0 else all_mask[:], \n",
    "                   flags = 2)\n",
    "    #height, width, channels = reference_image.shape\n",
    "    #Ransac_align = cv2.warpPerspective(align_image, M, (width, height))\n",
    "    img_match = cv2.drawMatches(reference_image,kp_ref,align_image,kp_align,good,None,**draw_params)\n",
    "    #plt.imshow(img_match),plt.show()\n",
    "    img_all_match = cv2.drawMatches(reference_image,kp_ref,align_image,kp_align,all[:TOP_MATCH_COUNT+4] if TOP_MATCH_COUNT > 0 else all[:],None,**all_params)\n",
    "    #plt.imshow(img_all_match),plt.show()\n",
    "    return img_match, img_all_match, aligned_image\n"
   ]
  },
  {
   "cell_type": "code",
   "execution_count": 9,
   "metadata": {},
   "outputs": [
    {
     "name": "stdout",
     "output_type": "stream",
     "text": [
      "23\n",
      "[[  4.   3.   5. ...   0.   0.   0.]\n",
      " [  0.   0.   0. ...  87. 140.   5.]\n",
      " [  0.   0.   0. ...   1.   0.   0.]\n",
      " ...\n",
      " [ 22.   0.   0. ...   0.   0.  20.]\n",
      " [  7.   1.   0. ...   0.   0.   2.]\n",
      " [  1.   2.   1. ...   9.  37.  35.]]\n",
      "<class 'numpy.ndarray'>\n",
      "[[-9.99461162e-01 -1.15767069e+00  9.04045883e+02]\n",
      " [-4.19045869e-03 -9.71410684e-01  3.58697549e+02]\n",
      " [-1.56443809e-05  7.46157961e-05  1.00000000e+00]]\n"
     ]
    }
   ],
   "source": [
    "while(True):\n",
    "    cv2.imshow('ws5', img_3)\n",
    "    cv2.imshow('align image', img_3_align)\n",
    "    k = cv2.waitKey(0)\n",
    "    if k == ord('f'):\n",
    "        img_3 = cv2.imread('cat.jpg')\n",
    "        img_3_align = cv2.imread('cat_a.jpg')\n",
    "        img_match_ransac, img_match_all, aligned_image= align_image(img_3, img_3_align,23)\n",
    "    if k == ord('l'): # load\n",
    "        reference_location = input('Paste the reference image location:')\n",
    "        img_3 = cv2.imread(reference_location)\n",
    "        align_location = input('Paste the align image location:')\n",
    "        img_3_align = cv2.imread(align_location)\n",
    "        top_count = int(input('How many line you want to show in all key point'))\n",
    "        blank = np.zeros(shape=(img_3.shape[0], img_3.shape[1]))\n",
    "        blank.fill(255)\n",
    "        blank_align = np.zeros(shape=(img_3_align.shape[0], img_3_align.shape[1]))\n",
    "        blank_align.fill(255)\n",
    "        cv2.imshow('ws5', img_3)\n",
    "    if k == 13: # enter key\n",
    "        img_match_ransac, img_match_all, aligned_image= align_image(img_3, img_3_align,top_count)\n",
    "        cv2.imshow('Ransac_align', aligned_image)\n",
    "        cv2.imshow('img_match_ransac', img_match_ransac)\n",
    "        cv2.imshow('img_match_all', img_match_all)\n",
    "    if k == ord('c'): \n",
    "        img_3 = blank.copy()\n",
    "    if k == ord('v'): \n",
    "        img_3_align = blank.copy()\n",
    "    if (k == ord('q')): # quit\n",
    "        cv2.destroyAllWindows()\n",
    "        break"
   ]
  }
 ],
 "metadata": {
  "kernelspec": {
   "display_name": "Python 3",
   "language": "python",
   "name": "python3"
  },
  "language_info": {
   "codemirror_mode": {
    "name": "ipython",
    "version": 3
   },
   "file_extension": ".py",
   "mimetype": "text/x-python",
   "name": "python",
   "nbconvert_exporter": "python",
   "pygments_lexer": "ipython3",
   "version": "3.11.0"
  },
  "orig_nbformat": 4,
  "vscode": {
   "interpreter": {
    "hash": "c261aea317cc0286b3b3261fbba9abdec21eaa57589985bb7a274bf54d6cc0a7"
   }
  }
 },
 "nbformat": 4,
 "nbformat_minor": 2
}
